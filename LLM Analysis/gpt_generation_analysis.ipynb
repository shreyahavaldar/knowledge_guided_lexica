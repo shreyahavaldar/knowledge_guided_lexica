{
 "cells": [
  {
   "cell_type": "code",
   "execution_count": 1,
   "metadata": {},
   "outputs": [],
   "source": [
    "import pandas as pd\n",
    "import numpy as np\n",
    "import matplotlib.pyplot as plt\n",
    "import mysql.connector\n",
    "import ast\n",
    "import sqlalchemy"
   ]
  },
  {
   "cell_type": "code",
   "execution_count": 2,
   "metadata": {},
   "outputs": [],
   "source": [
    "   \n",
    "def process_tweets(list_of_tweets):\n",
    "    assert type(list_of_tweets) == str\n",
    "    list_of_tweets = list_of_tweets.replace(\", \\\"\", \", \\'\")\n",
    "    list_of_tweets = list_of_tweets.replace(\"\\\", \", \"\\', \")\n",
    "    list_of_tweets = list_of_tweets.replace(\"[\\\"\", \"[\\'\")\n",
    "    list_of_tweets = list_of_tweets.replace(\"\\\"]\", \"\\']\")\n",
    "    #replace apostrophes in the form letter single quote letter\n",
    "    all_letters = \"abcdefghijklmnopqrstuvwxyz\"\n",
    "    for letter in all_letters:\n",
    "        list_of_tweets = list_of_tweets.replace(f\"\\'{letter}\", f\"’{letter}\")\n",
    "        list_of_tweets = list_of_tweets.replace(f\"{letter}\\' \", f\"{letter}’ \")\n",
    "        list_of_tweets = list_of_tweets.replace(f\"{letter}\\'-\", f\"{letter}’-\")\n",
    "        list_of_tweets = list_of_tweets.replace(f\"{letter}\\'.\", f\"{letter}’.\")\n",
    "        list_of_tweets = list_of_tweets.replace(f\"{letter}\\'!\", f\"{letter}’!\")\n",
    "        list_of_tweets = list_of_tweets.replace(f\"{letter}\\'?\", f\"{letter}’?\")\n",
    "\n",
    "    tweets = ast.literal_eval(list_of_tweets.strip())\n",
    "    try:\n",
    "        assert(len(tweets) == 50)\n",
    "    except:\n",
    "        print(\"Assertion error: {}\", tweets)\n",
    "        print(len(tweets))\n",
    "    return tweets\n",
    "\n",
    "def read_generated_data():\n",
    "    filename = \"gpt_generation.txt\"\n",
    "    with open(filename, 'r') as f:\n",
    "        data = f.readlines()\n",
    "    #drop header\n",
    "    data = data[1:]\n",
    "    user_ids = [line.split(\",\")[0] for line in data]\n",
    "    states = [line.split(\",\")[1] for line in data]\n",
    "    index_tweet_start = [line.find(\"[\") for line in data]\n",
    "    tweets = [line[index_tweet_start[i]:] for i, line in enumerate(data)]\n",
    "    tweets = [process_tweets(tweet) for tweet in tweets]\n",
    "    data_df = pd.DataFrame({'user_id': user_ids, 'state': states, 'tweets': tweets})\n",
    "    return data_df\n",
    "\n",
    "gpt_data = read_generated_data()"
   ]
  },
  {
   "cell_type": "code",
   "execution_count": 3,
   "metadata": {},
   "outputs": [
    {
     "name": "stdout",
     "output_type": "stream",
     "text": [
      "NY 12500\n"
     ]
    }
   ],
   "source": [
    "def read_twitter_data(rand_seed):\n",
    "    database = 'county_bias'\n",
    "    cnx = mysql.connector.connect(user='shreyah', password='yQ~,K].U^MO1ybD]', host='localhost', database=database)\n",
    "    cursor = cnx.cursor()\n",
    "    query1 = \"SELECT * FROM msgs_10pct_30_2012_en WHERE state = '{}' LIMIT 200000\"\n",
    "    query2 = \"SELECT * FROM msgs_10pct_30_2013_en WHERE state = '{}' LIMIT 200000\"\n",
    "\n",
    "    state_codes = ['NY', 'MA', 'LA', 'MS']\n",
    "    tweets_2012 = pd.DataFrame()\n",
    "    for state in state_codes:\n",
    "        query = query1.format(state)\n",
    "        cursor.execute(query)\n",
    "        temp = pd.DataFrame(cursor.fetchall(), columns=cursor.column_names)\n",
    "        #decode from bytes to string\n",
    "        temp[\"message\"] = temp[\"message\"].apply(lambda x: x.decode(\"utf-8\"))\n",
    "        temp = temp[temp['message'].str.split().str.len() > 5]\n",
    "        #select exactly 50 tweets from each user, skip users with under 50 tweets\n",
    "        user_ids = temp['user_id'].unique()\n",
    "        np.random.seed(rand_seed)\n",
    "        np.random.shuffle(user_ids)\n",
    "        included_users = 0\n",
    "        for user in user_ids:\n",
    "            user_tweets = temp[temp['user_id'] == user]\n",
    "            if(len(user_tweets) > 50):\n",
    "                tweets_2012 = pd.concat([tweets_2012, user_tweets[:50]])\n",
    "                included_users += 1\n",
    "            if(included_users == 250):\n",
    "                break\n",
    "        print(state, len(tweets_2012))\n",
    "            \n",
    "    tweets_2013 = pd.DataFrame()\n",
    "    for state in state_codes:\n",
    "        query = query2.format(state)\n",
    "        cursor.execute(query)\n",
    "        temp = pd.DataFrame(cursor.fetchall(), columns=cursor.column_names)\n",
    "        #decode from bytes to string\n",
    "        temp[\"message\"] = temp[\"message\"].apply(lambda x: x.decode(\"utf-8\"))\n",
    "        temp = temp[temp['message'].str.split().str.len() > 5]\n",
    "        #select exactly 50 tweets from each user, skip users with under 50 tweets\n",
    "        user_ids = temp['user_id'].unique()\n",
    "        np.random.seed(rand_seed)\n",
    "        np.random.shuffle(user_ids)\n",
    "        included_users = 0\n",
    "        for user in user_ids:\n",
    "            user_tweets = temp[temp['user_id'] == user]\n",
    "            if len(user_tweets) > 50:\n",
    "                tweets_2013 = pd.concat([tweets_2013, user_tweets[:50]])\n",
    "                included_users += 1\n",
    "            if(included_users == 250):\n",
    "                break     \n",
    "        print(state, len(tweets_2013))\n",
    "\n",
    "    Tweets = pd.concat([tweets_2012, tweets_2013])\n",
    "    print(len(Tweets))\n",
    "    return Tweets\n",
    "\n",
    "twitter_data = read_twitter_data(1)"
   ]
  },
  {
   "cell_type": "code",
   "execution_count": null,
   "metadata": {},
   "outputs": [],
   "source": [
    "database='individualism_collectivism'\n",
    "table = \"purification_015\"\n",
    "\n",
    "cnx = mysql.connector.connect(user='shreyah', password='yQ~,K].U^MO1ybD]', host='localhost', database=database)\n",
    "cursor = cnx.cursor()\n",
    "query = \"SELECT * FROM \" + table\n",
    "cursor.execute(query)\n",
    "lexicon = pd.DataFrame(cursor.fetchall(), columns=cursor.column_names)\n",
    "lexicon_indv = lexicon[lexicon[\"category\"] == \"INDIVIDUALIST\"]\n",
    "lexicon_coll = lexicon[lexicon[\"category\"] == \"COLLECTIVIST\"]\n",
    "\n",
    "def apply_lexicon(text, lexicon):\n",
    "    score = 0\n",
    "    for word in lexicon:\n",
    "        # if(word == \"world\" or word == \"diversity\" or word == \"creativity\"): continue\n",
    "        score += text.count(word)\n",
    "    return score/len(text.split())    "
   ]
  },
  {
   "cell_type": "code",
   "execution_count": null,
   "metadata": {},
   "outputs": [],
   "source": [
    "def get_scores(state_name, state_abbr, gpt_data, twitter_data):\n",
    "    gpt_data_state = np.array((gpt_data[gpt_data[\"state\"] == \" {}\".format(state_name)])[\"tweets\"].tolist()).flatten()\n",
    "    twitter_data_state = np.array((twitter_data[twitter_data[\"state\"] == state_abbr])[\"message\"].tolist()).flatten()\n",
    "\n",
    "    gpt_data_text = \" \".join(gpt_data_state)\n",
    "    twitter_data_text = \" \".join(twitter_data_state)\n",
    "\n",
    "    indv_gpt = apply_lexicon(gpt_data_text, lexicon_indv[\"term\"])\n",
    "    coll_gpt = apply_lexicon(gpt_data_text, lexicon_coll[\"term\"])\n",
    "    indv_twitter = apply_lexicon(twitter_data_text, lexicon_indv[\"term\"])\n",
    "    coll_twitter = apply_lexicon(twitter_data_text, lexicon_coll[\"term\"])\n",
    "    return indv_gpt, coll_gpt, indv_twitter, coll_twitter\n",
    "\n",
    "\n",
    "def get_differences(gpt_data, twitter_data):\n",
    "    state_names = [\"New York\", \"Massachusetts\", \"Louisiana\", \"Mississippi\"]\n",
    "    state_abbrs = [\"NY\", \"MA\", \"LA\", \"MS\"]\n",
    "    results = []\n",
    "    for i, state in enumerate(state_names):\n",
    "        indv_gpt, coll_gpt, indv_twitter, coll_twitter = get_scores(state, state_abbrs[i], gpt_data, twitter_data)\n",
    "        results.append([state, indv_gpt, coll_gpt, indv_twitter, coll_twitter])\n",
    "        print(state, indv_gpt, coll_gpt, indv_twitter, coll_twitter)\n",
    "\n",
    "    results_df = pd.DataFrame(results, columns=[\"state\", \"indv_gpt\", \"coll_gpt\", \"indv_twitter\", \"coll_twitter\"])\n",
    "    #normalize scores\n",
    "    results_df[\"indv_gpt\"] = results_df[\"indv_gpt\"] / results_df[\"indv_gpt\"].max()\n",
    "    results_df[\"coll_gpt\"] = results_df[\"coll_gpt\"] / results_df[\"coll_gpt\"].max()\n",
    "    results_df[\"indv_twitter\"] = results_df[\"indv_twitter\"] / results_df[\"indv_twitter\"].max()\n",
    "    results_df[\"coll_twitter\"] = results_df[\"coll_twitter\"] / results_df[\"coll_twitter\"].max()\n",
    "    results_df[\"diff_gpt\"] = results_df[\"indv_gpt\"] - results_df[\"coll_gpt\"]\n",
    "    results_df[\"diff_twitter\"] = results_df[\"indv_twitter\"] - results_df[\"coll_twitter\"]\n",
    "    return results_df\n",
    "                                                        "
   ]
  },
  {
   "cell_type": "code",
   "execution_count": null,
   "metadata": {},
   "outputs": [
    {
     "name": "stdout",
     "output_type": "stream",
     "text": [
      "New York 0.007543113285921652 0.001846408063028931 0.0019560386678555758 0.0034110370401822993\n",
      "Massachusetts 0.006876625772945338 0.0037105876634773763 0.001993405755558983 0.0034047952321226427\n",
      "Louisiana 0.005693145975752869 0.0018649960955052503 0.0014364055957365816 0.0032504996193376476\n",
      "Mississippi 0.007653483544798135 0.0032706650423000353 0.0015707215194633512 0.003722870341711479\n"
     ]
    }
   ],
   "source": [
    "VC_scores = [0.36666666666666653, 0.25, 0.6833333333333333, 0.55]\n",
    "VC_scores = [0.5-x for x in VC_scores]\n",
    "results_df = get_differences(gpt_data, twitter_data)\n",
    "results_df[\"vc_score\"] = VC_scores"
   ]
  },
  {
   "cell_type": "code",
   "execution_count": null,
   "metadata": {},
   "outputs": [
    {
     "data": {
      "image/png": "[encoded data removed]",
      "text/plain": [
       "<Figure size 432x288 with 1 Axes>"
      ]
     },
     "metadata": {
      "needs_background": "light"
     },
     "output_type": "display_data"
    }
   ],
   "source": [
    "#plot results in histogram\n",
    "fig, ax = plt.subplots(figsize=(8,6))\n",
    "#set font to serif\n",
    "plt.rcParams['font.family'] = 'serif'\n",
    "results_df.plot.bar(x='state', y=['diff_gpt', 'diff_twitter', 'vc_score'], ax=ax)\n",
    "plt.ylabel(\"Indv score minus Coll score\")\n",
    "plt.title(\"Individualism vs. Collectivism for 4 US States\")\n",
    "plt.legend([\"GPT-3\", \"Twitter\", \"VC Scale\"])\n",
    "#change xticks\n",
    "plt.xticks(np.arange(4), [\"NY\",\"MA\",\"LA\",\"MS\" ], rotation=0)\n",
    "plt.xlabel(\"State\")\n",
    "plt.tight_layout()\n",
    "#change font sizes\n",
    "plt.rc('font', size=12)\n",
    "plt.rc('axes', titlesize=12)\n",
    "plt.rc('axes', labelsize=12)\n",
    "plt.rc('xtick', labelsize=12)\n",
    "plt.rc('ytick', labelsize=12)\n",
    "plt.rc('legend', fontsize=10)\n",
    "#horizontal line at 0\n",
    "plt.axhline(y=0, color='black', linestyle='--', linewidth=0.75)\n",
    "plt.show()\n",
    "\n"
   ]
  }
 ],
 "metadata": {
  "kernelspec": {
   "display_name": "shreya_env",
   "language": "python",
   "name": "python3"
  },
  "language_info": {
   "codemirror_mode": {
    "name": "ipython",
    "version": 3
   },
   "file_extension": ".py",
   "mimetype": "text/x-python",
   "name": "python",
   "nbconvert_exporter": "python",
   "pygments_lexer": "ipython3",
   "version": "3.6.13"
  }
 },
 "nbformat": 4,
 "nbformat_minor": 2
}
